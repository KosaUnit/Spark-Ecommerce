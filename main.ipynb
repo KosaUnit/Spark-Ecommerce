{
 "cells": [
  {
   "cell_type": "code",
   "execution_count": 20,
   "id": "b4c21713",
   "metadata": {},
   "outputs": [
    {
     "name": "stdout",
     "output_type": "stream",
     "text": [
      "The autoreload extension is already loaded. To reload it, use:\n",
      "  %reload_ext autoreload\n",
      "Application ID: local-1756583398789\n"
     ]
    }
   ],
   "source": [
    "%load_ext autoreload\n",
    "%autoreload 2\n",
    "\n",
    "from pyspark.sql import SparkSession\n",
    "from src.config import Dirs\n",
    "\n",
    "\n",
    "spark = SparkSession.builder.appName(\"Spark DataFrames\").getOrCreate()\n",
    "application_id = spark.sparkContext.applicationId\n",
    "print(f\"Application ID: {application_id}\")"
   ]
  },
  {
   "cell_type": "code",
   "execution_count": 23,
   "id": "de6d2cf8",
   "metadata": {},
   "outputs": [],
   "source": [
    "from pyspark.sql.types import StructType, StructField, StringType, IntegerType, DateType\n",
    "\n",
    "customers_schema = StructType([\n",
    "    StructField('customer_id', IntegerType(), True),\n",
    "    StructField('first_name', StringType(), True),\n",
    "    StructField('last_name', StringType(), True),\n",
    "    StructField('country', StringType(), True)\n",
    "    ])\n",
    "\n",
    "orders_schema = StructType([\n",
    "    StructField('order_id', IntegerType(), True),\n",
    "    StructField('customer_id', IntegerType(), True),\n",
    "    StructField('order_date', DateType(), True),\n",
    "    StructField('amount', IntegerType(), True)\n",
    "    ])"
   ]
  },
  {
   "cell_type": "code",
   "execution_count": null,
   "id": "590cc375",
   "metadata": {},
   "outputs": [],
   "source": [
    "customers_path = str(Dirs.data_path / \"customers.csv\")\n",
    "orders_path = str(Dirs.data_path / \"orders.csv\")\n",
    "\n",
    "df_customers = spark.read.csv(customers_path, header=True, schema=customers_schema)\n",
    "df_orders = spark.read.csv(orders_path, header=True, schema=orders_schema)"
   ]
  },
  {
   "cell_type": "code",
   "execution_count": 26,
   "id": "ca8e84b6",
   "metadata": {},
   "outputs": [
    {
     "name": "stdout",
     "output_type": "stream",
     "text": [
      "+-----------+----------+---------+-------+\n",
      "|customer_id|first_name|last_name|country|\n",
      "+-----------+----------+---------+-------+\n",
      "|        101|     Alice|    Smith|     DE|\n",
      "|        102|       Bob|   Müller|     CH|\n",
      "|        103|     Clara|    Rossi|     IT|\n",
      "|        104|    Daniel|  Johnson|     US|\n",
      "|        105|     Elena|    Novak|     CZ|\n",
      "|        106|     Felix|     Wong|     CN|\n",
      "|        107|  Gabriela|    Silva|     BR|\n",
      "|        108|      Hans|    Meier|     AT|\n",
      "|        109|      Ines|    López|     ES|\n",
      "|        110|     Jakub| Kowalski|     PL|\n",
      "|        111|     Karen|   O'Neil|     IE|\n",
      "|        112|     Lukas|    Bauer|     DE|\n",
      "|        113|      NULL|    Bauer|     DE|\n",
      "|        114|      John|     NULL|     DE|\n",
      "|        115|        23| Kowalski|     PL|\n",
      "|       NULL|    Daniel|  Johnson|     US|\n",
      "+-----------+----------+---------+-------+\n",
      "\n",
      "+--------+-----------+----------+------+\n",
      "|order_id|customer_id|order_date|amount|\n",
      "+--------+-----------+----------+------+\n",
      "|       1|        101|2023-08-01|  NULL|\n",
      "|       2|        102|2023-08-01|  NULL|\n",
      "|       3|        101|2023-08-02|  NULL|\n",
      "|       4|        103|2023-08-02|  NULL|\n",
      "|       5|        104|2023-08-03|  NULL|\n",
      "|       6|        105|2023-08-03|  NULL|\n",
      "|       7|        106|2023-08-04|  NULL|\n",
      "|       8|        107|2023-08-04|  NULL|\n",
      "|       9|        102|2023-08-05|  NULL|\n",
      "|      10|        108|2023-08-05|  NULL|\n",
      "|      11|        101|2023-08-06|  NULL|\n",
      "|      12|        109|2023-08-06|  NULL|\n",
      "+--------+-----------+----------+------+\n",
      "\n"
     ]
    },
    {
     "data": {
      "text/plain": [
       "(None, None)"
      ]
     },
     "execution_count": 26,
     "metadata": {},
     "output_type": "execute_result"
    }
   ],
   "source": [
    "df_customers.show(), df_orders.show()"
   ]
  },
  {
   "cell_type": "code",
   "execution_count": null,
   "id": "3475ec04",
   "metadata": {},
   "outputs": [],
   "source": [
    "from pyspark.sql.functions import count\n",
    "\n",
    "large_orders = df_orders.groupBy(\"customer_id\") \\\n",
    "                        .agg(count(\"customer_id\").alias(\"order_count\")) \\\n",
    "                        .filter(\"order_count > 2\")"
   ]
  },
  {
   "cell_type": "code",
   "execution_count": null,
   "id": "028b42d6",
   "metadata": {},
   "outputs": [
    {
     "name": "stdout",
     "output_type": "stream",
     "text": [
      "+----------+---------+-----------+\n",
      "|first_name|last_name|order_count|\n",
      "+----------+---------+-----------+\n",
      "|     Alice|    Smith|          3|\n",
      "+----------+---------+-----------+\n",
      "\n"
     ]
    }
   ],
   "source": [
    "final_df = large_orders.join(df_customers, on=\"customer_id\") \\\n",
    "                        .select(df_customers.first_name, df_customers.last_name, large_orders.order_count)\n",
    "final_df.show()"
   ]
  },
  {
   "cell_type": "code",
   "execution_count": null,
   "id": "837dbbd4",
   "metadata": {},
   "outputs": [],
   "source": []
  }
 ],
 "metadata": {
  "kernelspec": {
   "display_name": ".venv",
   "language": "python",
   "name": "python3"
  },
  "language_info": {
   "codemirror_mode": {
    "name": "ipython",
    "version": 3
   },
   "file_extension": ".py",
   "mimetype": "text/x-python",
   "name": "python",
   "nbconvert_exporter": "python",
   "pygments_lexer": "ipython3",
   "version": "3.12.3"
  }
 },
 "nbformat": 4,
 "nbformat_minor": 5
}
