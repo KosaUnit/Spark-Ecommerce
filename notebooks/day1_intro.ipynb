{
 "cells": [
  {
   "cell_type": "code",
   "execution_count": 8,
   "id": "7cbea422",
   "metadata": {},
   "outputs": [
    {
     "name": "stderr",
     "output_type": "stream",
     "text": [
      "25/08/12 19:54:08 WARN SparkSession: Using an existing Spark session; only runtime SQL configurations will take effect.\n"
     ]
    },
    {
     "name": "stdout",
     "output_type": "stream",
     "text": [
      "root\n",
      " |-- year: integer (nullable = true)\n",
      " |-- month: integer (nullable = true)\n",
      " |-- day: integer (nullable = true)\n",
      " |-- dep_time: integer (nullable = true)\n",
      " |-- dep_delay: integer (nullable = true)\n",
      " |-- arr_time: integer (nullable = true)\n",
      " |-- arr_delay: integer (nullable = true)\n",
      " |-- carrier: string (nullable = true)\n",
      " |-- tailnum: string (nullable = true)\n",
      " |-- flight: integer (nullable = true)\n",
      " |-- origin: string (nullable = true)\n",
      " |-- dest: string (nullable = true)\n",
      " |-- air_time: integer (nullable = true)\n",
      " |-- distance: integer (nullable = true)\n",
      " |-- hour: integer (nullable = true)\n",
      " |-- minute: integer (nullable = true)\n",
      "\n",
      "+----+-----+---+--------+---------+--------+---------+-------+-------+------+------+----+--------+--------+----+------+\n",
      "|year|month|day|dep_time|dep_delay|arr_time|arr_delay|carrier|tailnum|flight|origin|dest|air_time|distance|hour|minute|\n",
      "+----+-----+---+--------+---------+--------+---------+-------+-------+------+------+----+--------+--------+----+------+\n",
      "|2013|    6| 30|     940|       15|    1216|       -4|     VX| N626VA|   407|   JFK| LAX|     313|    2475|   9|    40|\n",
      "|2013|    5|  7|    1657|       -3|    2104|       10|     DL| N3760C|   329|   JFK| SJU|     216|    1598|  16|    57|\n",
      "|2013|   12|  8|     859|       -1|    1238|       11|     DL| N712TW|   422|   JFK| LAX|     376|    2475|   8|    59|\n",
      "|2013|    5| 14|    1841|       -4|    2122|      -34|     DL| N914DL|  2391|   JFK| TPA|     135|    1005|  18|    41|\n",
      "|2013|    7| 21|    1102|       -3|    1230|       -8|     9E| N823AY|  3652|   LGA| ORF|      50|     296|  11|     2|\n",
      "+----+-----+---+--------+---------+--------+---------+-------+-------+------+------+----+--------+--------+----+------+\n",
      "only showing top 5 rows\n",
      "+----+-----+---------+\n",
      "|Year|Month|arr_delay|\n",
      "+----+-----+---------+\n",
      "|2013|    6|       -4|\n",
      "|2013|    5|       10|\n",
      "|2013|   12|       11|\n",
      "|2013|    5|      -34|\n",
      "|2013|    7|       -8|\n",
      "+----+-----+---------+\n",
      "only showing top 5 rows\n"
     ]
    }
   ],
   "source": [
    "from pyspark.sql import SparkSession\n",
    "\n",
    "spark = SparkSession.builder.appName(\"App\").getOrCreate()\n",
    "\n",
    "df = spark.read.csv(\"/home/fkosowski/Crash-Course/spark/data/nycflights.csv\", header=True, inferSchema=True)\n",
    "\n",
    "df.printSchema()\n",
    "df.show(5)\n",
    "df.select(\"Year\", \"Month\", \"arr_delay\").show(5)"
   ]
  },
  {
   "cell_type": "code",
   "execution_count": 9,
   "id": "f56c060d",
   "metadata": {},
   "outputs": [
    {
     "data": {
      "text/plain": [
       "431"
      ]
     },
     "execution_count": 9,
     "metadata": {},
     "output_type": "execute_result"
    }
   ],
   "source": [
    "df.filter(df.arr_delay > 100).count()\n"
   ]
  },
  {
   "cell_type": "code",
   "execution_count": null,
   "id": "163bf413",
   "metadata": {},
   "outputs": [
    {
     "name": "stdout",
     "output_type": "stream",
     "text": [
      "== Physical Plan ==\n",
      "*(1) Filter (isnotnull(dep_delay#651) AND (dep_delay#651 > 10))\n",
      "+- FileScan csv [year#647,month#648,day#649,dep_time#650,dep_delay#651,arr_time#652,arr_delay#653,carrier#654,tailnum#655,flight#656,origin#657,dest#658,air_time#659,distance#660,hour#661,minute#662] Batched: false, DataFilters: [isnotnull(dep_delay#651), (dep_delay#651 > 10)], Format: CSV, Location: InMemoryFileIndex(1 paths)[file:/home/fkosowski/Crash-Course/spark/data/nycflights.csv], PartitionFilters: [], PushedFilters: [IsNotNull(dep_delay), GreaterThan(dep_delay,10)], ReadSchema: struct<year:int,month:int,day:int,dep_time:int,dep_delay:int,arr_time:int,arr_delay:int,carrier:s...\n",
      "\n",
      "\n"
     ]
    }
   ],
   "source": [
    "# Try different transformations one at a time:\n",
    "df.filter(\"dep_delay > 10\").explain(True)                  # Narrow"
   ]
  },
  {
   "cell_type": "code",
   "execution_count": null,
   "id": "6d7e044e",
   "metadata": {},
   "outputs": [],
   "source": []
  }
 ],
 "metadata": {
  "kernelspec": {
   "display_name": ".venv",
   "language": "python",
   "name": "python3"
  },
  "language_info": {
   "codemirror_mode": {
    "name": "ipython",
    "version": 3
   },
   "file_extension": ".py",
   "mimetype": "text/x-python",
   "name": "python",
   "nbconvert_exporter": "python",
   "pygments_lexer": "ipython3",
   "version": "3.12.3"
  }
 },
 "nbformat": 4,
 "nbformat_minor": 5
}
